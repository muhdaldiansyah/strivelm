{
 "cells": [
  {
   "cell_type": "markdown",
   "metadata": {},
   "source": "# StriveLM - Google Colab Demo\n\nRun this notebook in Google Colab to train and test StriveLM with free GPU access.\n\n[![Open In Colab](https://colab.research.google.com/assets/colab-badge.svg)](https://colab.research.google.com/github/muhdaldiansyah/strivelm/blob/main/colab_demo.ipynb)"
  },
  {
   "cell_type": "markdown",
   "metadata": {},
   "source": [
    "## Step 1: Clone the Repository"
   ]
  },
  {
   "cell_type": "code",
   "execution_count": null,
   "metadata": {},
   "outputs": [],
   "source": "# Clone the StriveLM repository\n!git clone https://github.com/muhdaldiansyah/strivelm.git\n%cd strivelm\n!ls -la"
  },
  {
   "cell_type": "markdown",
   "metadata": {},
   "source": [
    "## Step 2: Verify PyTorch Installation"
   ]
  },
  {
   "cell_type": "code",
   "execution_count": null,
   "metadata": {},
   "outputs": [],
   "source": [
    "import torch\n",
    "print(f\"PyTorch version: {torch.__version__}\")\n",
    "print(f\"CUDA available: {torch.cuda.is_available()}\")\n",
    "if torch.cuda.is_available():\n",
    "    print(f\"CUDA device: {torch.cuda.get_device_name(0)}\")\n",
    "else:\n",
    "    print(\"Running on CPU\")"
   ]
  },
  {
   "cell_type": "markdown",
   "metadata": {},
   "source": [
    "## Step 3: View the Training Data"
   ]
  },
  {
   "cell_type": "code",
   "execution_count": null,
   "metadata": {},
   "outputs": [],
   "source": [
    "with open('input.txt', 'r') as f:\n",
    "    text = f.read()\n",
    "print(f\"Dataset size: {len(text)} characters\")\n",
    "print(f\"\\nFirst 200 characters:\\n{text[:200]}\")"
   ]
  },
  {
   "cell_type": "markdown",
   "metadata": {},
   "source": [
    "## Step 4: Train the Model\n",
    "\n",
    "This will train for 500 iterations. Should take ~30 seconds on GPU."
   ]
  },
  {
   "cell_type": "code",
   "execution_count": null,
   "metadata": {},
   "outputs": [],
   "source": [
    "!python train.py"
   ]
  },
  {
   "cell_type": "markdown",
   "metadata": {},
   "source": [
    "## Step 5: Generate Text\n",
    "\n",
    "Generate 200 tokens with different settings:"
   ]
  },
  {
   "cell_type": "code",
   "execution_count": null,
   "metadata": {},
   "outputs": [],
   "source": [
    "# Conservative sampling (low temperature, low top_k)\n",
    "print(\"=== Conservative Sampling (temp=0.5, top_k=10) ===\")\n",
    "!python inference.py --start \"T\" --steps 200 --temp 0.5 --top_k 10"
   ]
  },
  {
   "cell_type": "code",
   "execution_count": null,
   "metadata": {},
   "outputs": [],
   "source": [
    "# Balanced sampling (default)\n",
    "print(\"\\n=== Balanced Sampling (temp=0.9, top_k=50) ===\")\n",
    "!python inference.py --start \"W\" --steps 200 --temp 0.9 --top_k 50"
   ]
  },
  {
   "cell_type": "code",
   "execution_count": null,
   "metadata": {},
   "outputs": [],
   "source": [
    "# Creative sampling (high temperature)\n",
    "print(\"\\n=== Creative Sampling (temp=1.2, top_k=40) ===\")\n",
    "!python inference.py --start \"O\" --steps 200 --temp 1.2 --top_k 40"
   ]
  },
  {
   "cell_type": "markdown",
   "metadata": {},
   "source": [
    "## Step 6: Download the Trained Model"
   ]
  },
  {
   "cell_type": "code",
   "execution_count": null,
   "metadata": {},
   "outputs": [],
   "source": [
    "from google.colab import files\n",
    "\n",
    "# Download the checkpoint\n",
    "files.download('checkpoints/out.pt')\n",
    "print(\"Model downloaded! You can use it locally with inference.py\")"
   ]
  },
  {
   "cell_type": "markdown",
   "metadata": {},
   "source": [
    "## Optional: Train with a Larger Dataset\n",
    "\n",
    "Download Shakespeare's complete works:"
   ]
  },
  {
   "cell_type": "code",
   "execution_count": null,
   "metadata": {},
   "outputs": [],
   "source": [
    "!wget https://raw.githubusercontent.com/karpathy/char-rnn/master/data/tinyshakespeare/input.txt -O input.txt\n",
    "print(f\"New dataset size: {len(open('input.txt').read())} characters\")"
   ]
  },
  {
   "cell_type": "markdown",
   "metadata": {},
   "source": [
    "## Optional: Modify Training Config"
   ]
  },
  {
   "cell_type": "code",
   "execution_count": null,
   "metadata": {},
   "outputs": [],
   "source": [
    "# View current config\n",
    "!cat config.py"
   ]
  },
  {
   "cell_type": "code",
   "execution_count": null,
   "metadata": {},
   "outputs": [],
   "source": [
    "# Edit config for larger model (uncomment to use)\n",
    "# %%writefile config.py\n",
    "# from dataclasses import dataclass\n",
    "#\n",
    "# @dataclass\n",
    "# class Config:\n",
    "#     batch_size: int = 64          # Increased for GPU\n",
    "#     block_size: int = 128         # Longer context\n",
    "#     n_layer: int = 4              # More layers\n",
    "#     n_head: int = 4               # More heads\n",
    "#     n_embd: int = 256             # Larger embeddings\n",
    "#     dropout: float = 0.1          # Some dropout\n",
    "#     max_iters: int = 2000         # Train longer\n",
    "#     eval_interval: int = 200\n",
    "#     lr: float = 3e-4\n",
    "#     seed: int = 1337\n",
    "#     device: str = \"auto\"\n",
    "#     ckpt_path: str = \"checkpoints/out.pt\"\n",
    "#     dataset: str = \"input.txt\""
   ]
  },
  {
   "cell_type": "markdown",
   "metadata": {},
   "source": "---\n\n## Tips\n\n- **GPU Access**: Runtime → Change runtime type → GPU (T4)\n- **Longer Training**: Increase `max_iters` in config.py\n- **Better Quality**: Use larger dataset + train longer\n- **Save Work**: Download checkpoints before session expires\n\n## Resources\n\n- [GitHub Repo](https://github.com/muhdaldiansyah/strivelm)\n- [README](https://github.com/muhdaldiansyah/strivelm/blob/main/README.md)"
  }
 ],
 "metadata": {
  "accelerator": "GPU",
  "colab": {
   "gpuType": "T4",
   "provenance": []
  },
  "kernelspec": {
   "display_name": "Python 3",
   "name": "python3"
  },
  "language_info": {
   "name": "python"
  }
 },
 "nbformat": 4,
 "nbformat_minor": 0
}